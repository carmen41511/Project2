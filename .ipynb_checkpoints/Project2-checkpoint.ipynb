{
 "cells": [
  {
   "cell_type": "markdown",
   "metadata": {},
   "source": [
    "\n",
    "\n",
    "                                                    Final Project\n",
    "Project Overview:\n",
    "\n",
    "The purpose of this project is to investigate the determinants of the stock market. Investors often trade based on their expectation of the future economy as well as their amount of liquidity. Therefore, we have selected three macroeconomic variables -- unemployment rate, federal funds rate, and total industrial production -- to study the scope of their impact on the stock market, which we use the major index S&P 500 to represent. We believe that unemployment and higher interest rate will decrease investors' buying power, leading to a poorly performing stock market. Meanwhile an increase in industrial production indicates an expanding economy, driving up the S&P 500 index. To test this theory, we will implement a linear regression model using monthly data from  January 1955 to September 2020.\n",
    "\n"
   ]
  },
  {
   "cell_type": "markdown",
   "metadata": {},
   "source": [
    "Project Structure:\n",
    "\n",
    "This project consists of the following three sections:\n",
    "\n",
    "1. Introduction of the key variables and the method used to access data from the source\n",
    "2. Summary statistics and visualizations of each variable\n",
    "3. Revisiting the hypothesis and performing a linear regression model to test, followed by a conclusion present our final results"
   ]
  },
  {
   "cell_type": "markdown",
   "metadata": {},
   "source": [
    "Data Report: \n",
    "\n",
    "The data for this project is from the Federal Reserve Economic Data website (FRED) and Yahoo Finance. FRED provides monthly data on the U.S. unemployment rate, Federal Funds Rate (which impact the interest rate charged to consumers), and Industrial Production Total Index, while Yahoo Finance provides monthly data on S&P 500 from January 1955 to September 2020. The data can be accessed at https://fred.stlouisfed.org and https://finance.yahoo.com/.\n",
    "\n",
    "\n",
    "Key Variables: \n",
    "\n",
    "The four key variables in this project are unemployment rate, effective federal funds rate, total industrial production: total index, and S&P 500 index.\n",
    "\n",
    "FRED defines the unemployment rate as to \"represent the number of unemployed as a percentage of the labor force. Labor force data are restricted to people 16 years of age and older, who currently reside in 1 of the 50 states or the District of Columbia, who do not reside in institutions (e.g., penal and mental facilities, homes for the aged), and who are not on active duty in the Armed Forces\".\n",
    "\n",
    "The effective federal funds rate (EFFR) is calculated as a volume-weighted median of overnight federal funds transactions reported in the FR 2420 Report of Selected Money Market Rates. \n",
    "\n",
    "FRED defines the Industrial Production: Total Index (INDPRO) as \"an economic indicator that measures real output for all facilities located in the United States manufacturing, mining, and electric, and gas utilities (excluding those in U.S. territories)\".\n",
    "\n",
    "FRED defines \"the observation for the S&P 500 index represents the daily index value at market close. The market typically closes at 4 PM ET, except for holidays when it sometimes closes early.The S&P 500 is regarded as a gauge of the large cap U.S. equities market. The index includes 500 leading companies in leading industries of the U.S. economy, which are publicly held on either the NYSE or NASDAQ, and covers 75% of U.S. equities. Since this is a price index and not a total return index, the S&P 500 index here does not contain dividends\".\n"
   ]
  },
  {
   "cell_type": "code",
   "execution_count": 1,
   "metadata": {},
   "outputs": [],
   "source": [
    "#KEY IMPORTS\n",
    "\n",
    "import numpy as np\n",
    "import matplotlib.pyplot as plt\n",
    "%matplotlib inline\n",
    "import pandas as pd\n",
    "import statsmodels.api as sm\n",
    "from statsmodels.iolib.summary2 import summary_col\n",
    "from sklearn import linear_model\n",
    "from sklearn.linear_model import LinearRegression\n",
    "from scipy.stats import linregress"
   ]
  },
  {
   "cell_type": "markdown",
   "metadata": {},
   "source": [
    "ACCESSING THE DATA, SUMMARY STATISTICS, & DATA VISUALIZATIONS"
   ]
  },
  {
   "cell_type": "markdown",
   "metadata": {},
   "source": [
    "<h2>Unemployment Rate"
   ]
  },
  {
   "cell_type": "code",
   "execution_count": 2,
   "metadata": {},
   "outputs": [
    {
     "data": {
      "text/html": [
       "<div>\n",
       "<style scoped>\n",
       "    .dataframe tbody tr th:only-of-type {\n",
       "        vertical-align: middle;\n",
       "    }\n",
       "\n",
       "    .dataframe tbody tr th {\n",
       "        vertical-align: top;\n",
       "    }\n",
       "\n",
       "    .dataframe thead th {\n",
       "        text-align: right;\n",
       "    }\n",
       "</style>\n",
       "<table border=\"1\" class=\"dataframe\">\n",
       "  <thead>\n",
       "    <tr style=\"text-align: right;\">\n",
       "      <th></th>\n",
       "      <th>DATE</th>\n",
       "      <th>UNRATE</th>\n",
       "    </tr>\n",
       "  </thead>\n",
       "  <tbody>\n",
       "    <tr>\n",
       "      <th>0</th>\n",
       "      <td>1955-01-01</td>\n",
       "      <td>4.9</td>\n",
       "    </tr>\n",
       "    <tr>\n",
       "      <th>1</th>\n",
       "      <td>1955-02-01</td>\n",
       "      <td>4.7</td>\n",
       "    </tr>\n",
       "    <tr>\n",
       "      <th>2</th>\n",
       "      <td>1955-03-01</td>\n",
       "      <td>4.6</td>\n",
       "    </tr>\n",
       "    <tr>\n",
       "      <th>3</th>\n",
       "      <td>1955-04-01</td>\n",
       "      <td>4.7</td>\n",
       "    </tr>\n",
       "    <tr>\n",
       "      <th>4</th>\n",
       "      <td>1955-05-01</td>\n",
       "      <td>4.3</td>\n",
       "    </tr>\n",
       "  </tbody>\n",
       "</table>\n",
       "</div>"
      ],
      "text/plain": [
       "         DATE  UNRATE\n",
       "0  1955-01-01     4.9\n",
       "1  1955-02-01     4.7\n",
       "2  1955-03-01     4.6\n",
       "3  1955-04-01     4.7\n",
       "4  1955-05-01     4.3"
      ]
     },
     "execution_count": 2,
     "metadata": {},
     "output_type": "execute_result"
    }
   ],
   "source": [
    "# UNEMPLOYMENT RATE\n",
    "\n",
    "url_ur = 'https://fred.stlouisfed.org/graph/fredgraph.csv?bgcolor=%23e1e9f0&chart_type=line&drp=0&fo=open%20sans&graph_bgcolor=%23ffffff&height=450&mode=fred&recession_bars=on&txtcolor=%23444444&ts=12&tts=12&width=1168&nt=0&thu=0&trc=0&show_legend=yes&show_axis_titles=yes&show_tooltip=yes&id=UNRATE&scale=left&cosd=1955-01-01&coed=2020-09-01&line_color=%234572a7&link_values=false&line_style=solid&mark_type=none&mw=3&lw=2&ost=-99999&oet=99999&mma=0&fml=a&fq=Monthly&fam=avg&fgst=lin&fgsnd=2020-02-01&line_index=1&transformation=lin&vintage_date=2020-11-12&revision_date=2020-11-12&nd=1948-01-01'\n",
    "data_ur = pd.read_csv(url_ur, parse_dates=True)\n",
    "data_ur.columns = ['DATE','UNRATE']\n",
    "data_ur.head()"
   ]
  },
  {
   "cell_type": "code",
   "execution_count": 3,
   "metadata": {},
   "outputs": [
    {
     "data": {
      "text/html": [
       "<div>\n",
       "<style scoped>\n",
       "    .dataframe tbody tr th:only-of-type {\n",
       "        vertical-align: middle;\n",
       "    }\n",
       "\n",
       "    .dataframe tbody tr th {\n",
       "        vertical-align: top;\n",
       "    }\n",
       "\n",
       "    .dataframe thead th {\n",
       "        text-align: right;\n",
       "    }\n",
       "</style>\n",
       "<table border=\"1\" class=\"dataframe\">\n",
       "  <thead>\n",
       "    <tr style=\"text-align: right;\">\n",
       "      <th></th>\n",
       "      <th>UNRATE</th>\n",
       "    </tr>\n",
       "  </thead>\n",
       "  <tbody>\n",
       "    <tr>\n",
       "      <th>count</th>\n",
       "      <td>789.000000</td>\n",
       "    </tr>\n",
       "    <tr>\n",
       "      <th>mean</th>\n",
       "      <td>5.922814</td>\n",
       "    </tr>\n",
       "    <tr>\n",
       "      <th>std</th>\n",
       "      <td>1.664899</td>\n",
       "    </tr>\n",
       "    <tr>\n",
       "      <th>min</th>\n",
       "      <td>3.400000</td>\n",
       "    </tr>\n",
       "    <tr>\n",
       "      <th>25%</th>\n",
       "      <td>4.700000</td>\n",
       "    </tr>\n",
       "    <tr>\n",
       "      <th>50%</th>\n",
       "      <td>5.600000</td>\n",
       "    </tr>\n",
       "    <tr>\n",
       "      <th>75%</th>\n",
       "      <td>7.000000</td>\n",
       "    </tr>\n",
       "    <tr>\n",
       "      <th>max</th>\n",
       "      <td>14.700000</td>\n",
       "    </tr>\n",
       "  </tbody>\n",
       "</table>\n",
       "</div>"
      ],
      "text/plain": [
       "           UNRATE\n",
       "count  789.000000\n",
       "mean     5.922814\n",
       "std      1.664899\n",
       "min      3.400000\n",
       "25%      4.700000\n",
       "50%      5.600000\n",
       "75%      7.000000\n",
       "max     14.700000"
      ]
     },
     "execution_count": 3,
     "metadata": {},
     "output_type": "execute_result"
    }
   ],
   "source": [
    "# UNEMPLOYMENT RATE: SUMMARY STATISTICS\n",
    "\n",
    "data_ur.describe()"
   ]
  },
  {
   "cell_type": "code",
   "execution_count": 4,
   "metadata": {},
   "outputs": [
    {
     "data": {
      "image/png": "[encoded data removed]",
      "text/plain": [
       "<Figure size 864x432 with 1 Axes>"
      ]
     },
     "metadata": {
      "needs_background": "light"
     },
     "output_type": "display_data"
    }
   ],
   "source": [
    "# UNEMPLOYMENT RATE: DATA VISUALIZATION\n",
    "\n",
    "data_ur1 = data_ur.set_index('DATE')\n",
    "ax = data_ur1['1955':'2020'].plot(title='US Unemployment Rate', legend = False, figsize = (12,6))\n",
    "ax.set_xlabel('year', fontsize = 12)\n",
    "ax.set_ylabel('percentage', fontsize = 12)\n",
    "plt.show()"
   ]
  },
  {
   "cell_type": "markdown",
   "metadata": {},
   "source": [
    "<h2>Federal Funds Rate"
   ]
  },
  {
   "cell_type": "code",
   "execution_count": 5,
   "metadata": {},
   "outputs": [
    {
     "data": {
      "text/html": [
       "<div>\n",
       "<style scoped>\n",
       "    .dataframe tbody tr th:only-of-type {\n",
       "        vertical-align: middle;\n",
       "    }\n",
       "\n",
       "    .dataframe tbody tr th {\n",
       "        vertical-align: top;\n",
       "    }\n",
       "\n",
       "    .dataframe thead th {\n",
       "        text-align: right;\n",
       "    }\n",
       "</style>\n",
       "<table border=\"1\" class=\"dataframe\">\n",
       "  <thead>\n",
       "    <tr style=\"text-align: right;\">\n",
       "      <th></th>\n",
       "      <th>DATE</th>\n",
       "      <th>FFR</th>\n",
       "    </tr>\n",
       "  </thead>\n",
       "  <tbody>\n",
       "    <tr>\n",
       "      <th>0</th>\n",
       "      <td>1954-07-01</td>\n",
       "      <td>0.80</td>\n",
       "    </tr>\n",
       "    <tr>\n",
       "      <th>1</th>\n",
       "      <td>1954-08-01</td>\n",
       "      <td>1.22</td>\n",
       "    </tr>\n",
       "    <tr>\n",
       "      <th>2</th>\n",
       "      <td>1954-09-01</td>\n",
       "      <td>1.07</td>\n",
       "    </tr>\n",
       "    <tr>\n",
       "      <th>3</th>\n",
       "      <td>1954-10-01</td>\n",
       "      <td>0.85</td>\n",
       "    </tr>\n",
       "    <tr>\n",
       "      <th>4</th>\n",
       "      <td>1954-11-01</td>\n",
       "      <td>0.83</td>\n",
       "    </tr>\n",
       "  </tbody>\n",
       "</table>\n",
       "</div>"
      ],
      "text/plain": [
       "         DATE   FFR\n",
       "0  1954-07-01  0.80\n",
       "1  1954-08-01  1.22\n",
       "2  1954-09-01  1.07\n",
       "3  1954-10-01  0.85\n",
       "4  1954-11-01  0.83"
      ]
     },
     "execution_count": 5,
     "metadata": {},
     "output_type": "execute_result"
    }
   ],
   "source": [
    "# FEDERAL FUNDS RATE \n",
    "url_ffr = 'http://research.stlouisfed.org/fred2/series/FEDFUNDS/downloaddata/FEDFUNDS.csv'\n",
    "data_ffr = pd.read_csv(url_ffr, parse_dates=True)\n",
    "data_ffr.columns=['DATE', 'FFR']\n",
    "data_ffr.head()"
   ]
  },
  {
   "cell_type": "code",
   "execution_count": 6,
   "metadata": {},
   "outputs": [
    {
     "data": {
      "text/html": [
       "<div>\n",
       "<style scoped>\n",
       "    .dataframe tbody tr th:only-of-type {\n",
       "        vertical-align: middle;\n",
       "    }\n",
       "\n",
       "    .dataframe tbody tr th {\n",
       "        vertical-align: top;\n",
       "    }\n",
       "\n",
       "    .dataframe thead th {\n",
       "        text-align: right;\n",
       "    }\n",
       "</style>\n",
       "<table border=\"1\" class=\"dataframe\">\n",
       "  <thead>\n",
       "    <tr style=\"text-align: right;\">\n",
       "      <th></th>\n",
       "      <th>FFR</th>\n",
       "    </tr>\n",
       "  </thead>\n",
       "  <tbody>\n",
       "    <tr>\n",
       "      <th>count</th>\n",
       "      <td>797.000000</td>\n",
       "    </tr>\n",
       "    <tr>\n",
       "      <th>mean</th>\n",
       "      <td>4.712986</td>\n",
       "    </tr>\n",
       "    <tr>\n",
       "      <th>std</th>\n",
       "      <td>3.605116</td>\n",
       "    </tr>\n",
       "    <tr>\n",
       "      <th>min</th>\n",
       "      <td>0.050000</td>\n",
       "    </tr>\n",
       "    <tr>\n",
       "      <th>25%</th>\n",
       "      <td>1.980000</td>\n",
       "    </tr>\n",
       "    <tr>\n",
       "      <th>50%</th>\n",
       "      <td>4.290000</td>\n",
       "    </tr>\n",
       "    <tr>\n",
       "      <th>75%</th>\n",
       "      <td>6.500000</td>\n",
       "    </tr>\n",
       "    <tr>\n",
       "      <th>max</th>\n",
       "      <td>19.100000</td>\n",
       "    </tr>\n",
       "  </tbody>\n",
       "</table>\n",
       "</div>"
      ],
      "text/plain": [
       "              FFR\n",
       "count  797.000000\n",
       "mean     4.712986\n",
       "std      3.605116\n",
       "min      0.050000\n",
       "25%      1.980000\n",
       "50%      4.290000\n",
       "75%      6.500000\n",
       "max     19.100000"
      ]
     },
     "execution_count": 6,
     "metadata": {},
     "output_type": "execute_result"
    }
   ],
   "source": [
    "# FEDERAL FUNDS RATE: SUMMARY STATISTICS\n",
    "data_ffr.describe()"
   ]
  },
  {
   "cell_type": "code",
   "execution_count": 7,
   "metadata": {},
   "outputs": [
    {
     "data": {
      "image/png": "[encoded data removed]",
      "text/plain": [
       "<Figure size 864x432 with 1 Axes>"
      ]
     },
     "metadata": {
      "needs_background": "light"
     },
     "output_type": "display_data"
    }
   ],
   "source": [
    "# FEDERAL FUNDS RATE: DATA VISUALIZATION\n",
    "data_ffr1=data_ffr.set_index('DATE')\n",
    "ax = data_ffr1['1954':'2020'].plot(title='US Federal Funds Rate', legend=False, figsize=(12,6))\n",
    "ax.set_xlabel('year', fontsize=12)\n",
    "plt.show()"
   ]
  },
  {
   "cell_type": "markdown",
   "metadata": {},
   "source": [
    "<h2>Total Industrial Production"
   ]
  },
  {
   "cell_type": "code",
   "execution_count": 8,
   "metadata": {},
   "outputs": [
    {
     "data": {
      "text/html": [
       "<div>\n",
       "<style scoped>\n",
       "    .dataframe tbody tr th:only-of-type {\n",
       "        vertical-align: middle;\n",
       "    }\n",
       "\n",
       "    .dataframe tbody tr th {\n",
       "        vertical-align: top;\n",
       "    }\n",
       "\n",
       "    .dataframe thead th {\n",
       "        text-align: right;\n",
       "    }\n",
       "</style>\n",
       "<table border=\"1\" class=\"dataframe\">\n",
       "  <thead>\n",
       "    <tr style=\"text-align: right;\">\n",
       "      <th></th>\n",
       "      <th>DATE</th>\n",
       "      <th>INDPRO</th>\n",
       "    </tr>\n",
       "  </thead>\n",
       "  <tbody>\n",
       "    <tr>\n",
       "      <th>0</th>\n",
       "      <td>1919-01-01</td>\n",
       "      <td>5.0124</td>\n",
       "    </tr>\n",
       "    <tr>\n",
       "      <th>1</th>\n",
       "      <td>1919-02-01</td>\n",
       "      <td>4.7908</td>\n",
       "    </tr>\n",
       "    <tr>\n",
       "      <th>2</th>\n",
       "      <td>1919-03-01</td>\n",
       "      <td>4.6524</td>\n",
       "    </tr>\n",
       "    <tr>\n",
       "      <th>3</th>\n",
       "      <td>1919-04-01</td>\n",
       "      <td>4.7355</td>\n",
       "    </tr>\n",
       "    <tr>\n",
       "      <th>4</th>\n",
       "      <td>1919-05-01</td>\n",
       "      <td>4.7632</td>\n",
       "    </tr>\n",
       "  </tbody>\n",
       "</table>\n",
       "</div>"
      ],
      "text/plain": [
       "         DATE  INDPRO\n",
       "0  1919-01-01  5.0124\n",
       "1  1919-02-01  4.7908\n",
       "2  1919-03-01  4.6524\n",
       "3  1919-04-01  4.7355\n",
       "4  1919-05-01  4.7632"
      ]
     },
     "execution_count": 8,
     "metadata": {},
     "output_type": "execute_result"
    }
   ],
   "source": [
    "# TOTAL INDUSTRIAL PRODUCTION\n",
    "url_ip = 'https://fred.stlouisfed.org/graph/fredgraph.csv?bgcolor=%23e1e9f0&chart_type=line&drp=0&fo=open%20sans&graph_bgcolor=%23ffffff&height=450&mode=fred&recession_bars=on&txtcolor=%23444444&ts=12&tts=12&width=748&nt=0&thu=0&trc=0&show_legend=yes&show_axis_titles=yes&show_tooltip=yes&id=INDPRO&scale=left&cosd=1919-01-01&coed=2020-09-01&line_color=%234572a7&link_values=false&line_style=solid&mark_type=none&mw=3&lw=2&ost=-99999&oet=99999&mma=0&fml=a&fq=Monthly&fam=avg&fgst=lin&fgsnd=2020-02-01&line_index=1&transformation=lin&vintage_date=2020-11-12&revision_date=2020-11-12&nd=1919-01-01'\n",
    "data_ip = pd.read_csv(url_ip, parse_dates=True)\n",
    "data_ip.columns=['DATE', 'INDPRO']\n",
    "data_ip.head()"
   ]
  },
  {
   "cell_type": "code",
   "execution_count": 9,
   "metadata": {},
   "outputs": [
    {
     "data": {
      "text/html": [
       "<div>\n",
       "<style scoped>\n",
       "    .dataframe tbody tr th:only-of-type {\n",
       "        vertical-align: middle;\n",
       "    }\n",
       "\n",
       "    .dataframe tbody tr th {\n",
       "        vertical-align: top;\n",
       "    }\n",
       "\n",
       "    .dataframe thead th {\n",
       "        text-align: right;\n",
       "    }\n",
       "</style>\n",
       "<table border=\"1\" class=\"dataframe\">\n",
       "  <thead>\n",
       "    <tr style=\"text-align: right;\">\n",
       "      <th></th>\n",
       "      <th>INDPRO</th>\n",
       "    </tr>\n",
       "  </thead>\n",
       "  <tbody>\n",
       "    <tr>\n",
       "      <th>count</th>\n",
       "      <td>1221.000000</td>\n",
       "    </tr>\n",
       "    <tr>\n",
       "      <th>mean</th>\n",
       "      <td>45.300118</td>\n",
       "    </tr>\n",
       "    <tr>\n",
       "      <th>std</th>\n",
       "      <td>34.939827</td>\n",
       "    </tr>\n",
       "    <tr>\n",
       "      <th>min</th>\n",
       "      <td>3.793900</td>\n",
       "    </tr>\n",
       "    <tr>\n",
       "      <th>25%</th>\n",
       "      <td>13.901800</td>\n",
       "    </tr>\n",
       "    <tr>\n",
       "      <th>50%</th>\n",
       "      <td>38.852500</td>\n",
       "    </tr>\n",
       "    <tr>\n",
       "      <th>75%</th>\n",
       "      <td>73.421900</td>\n",
       "    </tr>\n",
       "    <tr>\n",
       "      <th>max</th>\n",
       "      <td>110.551600</td>\n",
       "    </tr>\n",
       "  </tbody>\n",
       "</table>\n",
       "</div>"
      ],
      "text/plain": [
       "            INDPRO\n",
       "count  1221.000000\n",
       "mean     45.300118\n",
       "std      34.939827\n",
       "min       3.793900\n",
       "25%      13.901800\n",
       "50%      38.852500\n",
       "75%      73.421900\n",
       "max     110.551600"
      ]
     },
     "execution_count": 9,
     "metadata": {},
     "output_type": "execute_result"
    }
   ],
   "source": [
    "# TOTAL INDUSTRIAL PRODUCTION: SUMMARY STATISTICS\n",
    "data_ip.describe()"
   ]
  },
  {
   "cell_type": "code",
   "execution_count": 10,
   "metadata": {},
   "outputs": [
    {
     "data": {
      "image/png": "[encoded data removed]",
      "text/plain": [
       "<Figure size 864x432 with 1 Axes>"
      ]
     },
     "metadata": {
      "needs_background": "light"
     },
     "output_type": "display_data"
    }
   ],
   "source": [
    "# TOTAL INDUSTRIAL PRODUCTION: DATA VISUALIZATION\n",
    "data_ip1=data_ip.set_index('DATE')\n",
    "ax = data_ip1['1947':'2020'].plot(title='US INDPRO', legend=False, figsize=(12,6))\n",
    "ax.set_xlabel('year', fontsize=12)\n",
    "plt.show()"
   ]
  },
  {
   "cell_type": "markdown",
   "metadata": {},
   "source": [
    "<h2>S&P 500"
   ]
  },
  {
   "cell_type": "code",
   "execution_count": 11,
   "metadata": {},
   "outputs": [
    {
     "data": {
      "text/html": [
       "<div>\n",
       "<style scoped>\n",
       "    .dataframe tbody tr th:only-of-type {\n",
       "        vertical-align: middle;\n",
       "    }\n",
       "\n",
       "    .dataframe tbody tr th {\n",
       "        vertical-align: top;\n",
       "    }\n",
       "\n",
       "    .dataframe thead th {\n",
       "        text-align: right;\n",
       "    }\n",
       "</style>\n",
       "<table border=\"1\" class=\"dataframe\">\n",
       "  <thead>\n",
       "    <tr style=\"text-align: right;\">\n",
       "      <th></th>\n",
       "      <th>Date</th>\n",
       "      <th>Open</th>\n",
       "      <th>High</th>\n",
       "      <th>Low</th>\n",
       "      <th>Close</th>\n",
       "      <th>Adj Close</th>\n",
       "      <th>Volume</th>\n",
       "    </tr>\n",
       "  </thead>\n",
       "  <tbody>\n",
       "    <tr>\n",
       "      <th>0</th>\n",
       "      <td>1927-12-01</td>\n",
       "      <td>17.660000</td>\n",
       "      <td>17.660000</td>\n",
       "      <td>17.660000</td>\n",
       "      <td>17.660000</td>\n",
       "      <td>17.660000</td>\n",
       "      <td>0</td>\n",
       "    </tr>\n",
       "    <tr>\n",
       "      <th>1</th>\n",
       "      <td>1928-01-01</td>\n",
       "      <td>17.760000</td>\n",
       "      <td>17.760000</td>\n",
       "      <td>17.260000</td>\n",
       "      <td>17.570000</td>\n",
       "      <td>17.570000</td>\n",
       "      <td>0</td>\n",
       "    </tr>\n",
       "    <tr>\n",
       "      <th>2</th>\n",
       "      <td>1928-02-01</td>\n",
       "      <td>17.530001</td>\n",
       "      <td>17.629999</td>\n",
       "      <td>16.950001</td>\n",
       "      <td>17.260000</td>\n",
       "      <td>17.260000</td>\n",
       "      <td>0</td>\n",
       "    </tr>\n",
       "    <tr>\n",
       "      <th>3</th>\n",
       "      <td>1928-03-01</td>\n",
       "      <td>17.299999</td>\n",
       "      <td>19.280001</td>\n",
       "      <td>17.299999</td>\n",
       "      <td>19.280001</td>\n",
       "      <td>19.280001</td>\n",
       "      <td>0</td>\n",
       "    </tr>\n",
       "    <tr>\n",
       "      <th>4</th>\n",
       "      <td>1928-04-01</td>\n",
       "      <td>18.910000</td>\n",
       "      <td>19.750000</td>\n",
       "      <td>18.910000</td>\n",
       "      <td>19.750000</td>\n",
       "      <td>19.750000</td>\n",
       "      <td>0</td>\n",
       "    </tr>\n",
       "    <tr>\n",
       "      <th>...</th>\n",
       "      <td>...</td>\n",
       "      <td>...</td>\n",
       "      <td>...</td>\n",
       "      <td>...</td>\n",
       "      <td>...</td>\n",
       "      <td>...</td>\n",
       "      <td>...</td>\n",
       "    </tr>\n",
       "    <tr>\n",
       "      <th>1111</th>\n",
       "      <td>2020-07-01</td>\n",
       "      <td>3105.919922</td>\n",
       "      <td>3279.989990</td>\n",
       "      <td>3101.169922</td>\n",
       "      <td>3271.120117</td>\n",
       "      <td>3271.120117</td>\n",
       "      <td>97197020000</td>\n",
       "    </tr>\n",
       "    <tr>\n",
       "      <th>1112</th>\n",
       "      <td>2020-08-01</td>\n",
       "      <td>3288.260010</td>\n",
       "      <td>3514.770020</td>\n",
       "      <td>3284.530029</td>\n",
       "      <td>3500.310059</td>\n",
       "      <td>3500.310059</td>\n",
       "      <td>84402300000</td>\n",
       "    </tr>\n",
       "    <tr>\n",
       "      <th>1113</th>\n",
       "      <td>2020-09-01</td>\n",
       "      <td>3507.439941</td>\n",
       "      <td>3588.110107</td>\n",
       "      <td>3209.449951</td>\n",
       "      <td>3363.000000</td>\n",
       "      <td>3363.000000</td>\n",
       "      <td>92084120000</td>\n",
       "    </tr>\n",
       "    <tr>\n",
       "      <th>1114</th>\n",
       "      <td>2020-10-01</td>\n",
       "      <td>3385.870117</td>\n",
       "      <td>3549.850098</td>\n",
       "      <td>3233.939941</td>\n",
       "      <td>3269.959961</td>\n",
       "      <td>3269.959961</td>\n",
       "      <td>89737600000</td>\n",
       "    </tr>\n",
       "    <tr>\n",
       "      <th>1115</th>\n",
       "      <td>2020-11-01</td>\n",
       "      <td>3296.199951</td>\n",
       "      <td>3645.989990</td>\n",
       "      <td>3279.739990</td>\n",
       "      <td>3572.659912</td>\n",
       "      <td>3572.659912</td>\n",
       "      <td>42179650000</td>\n",
       "    </tr>\n",
       "  </tbody>\n",
       "</table>\n",
       "<p>1116 rows × 7 columns</p>\n",
       "</div>"
      ],
      "text/plain": [
       "            Date         Open         High          Low        Close  \\\n",
       "0     1927-12-01    17.660000    17.660000    17.660000    17.660000   \n",
       "1     1928-01-01    17.760000    17.760000    17.260000    17.570000   \n",
       "2     1928-02-01    17.530001    17.629999    16.950001    17.260000   \n",
       "3     1928-03-01    17.299999    19.280001    17.299999    19.280001   \n",
       "4     1928-04-01    18.910000    19.750000    18.910000    19.750000   \n",
       "...          ...          ...          ...          ...          ...   \n",
       "1111  2020-07-01  3105.919922  3279.989990  3101.169922  3271.120117   \n",
       "1112  2020-08-01  3288.260010  3514.770020  3284.530029  3500.310059   \n",
       "1113  2020-09-01  3507.439941  3588.110107  3209.449951  3363.000000   \n",
       "1114  2020-10-01  3385.870117  3549.850098  3233.939941  3269.959961   \n",
       "1115  2020-11-01  3296.199951  3645.989990  3279.739990  3572.659912   \n",
       "\n",
       "        Adj Close       Volume  \n",
       "0       17.660000            0  \n",
       "1       17.570000            0  \n",
       "2       17.260000            0  \n",
       "3       19.280001            0  \n",
       "4       19.750000            0  \n",
       "...           ...          ...  \n",
       "1111  3271.120117  97197020000  \n",
       "1112  3500.310059  84402300000  \n",
       "1113  3363.000000  92084120000  \n",
       "1114  3269.959961  89737600000  \n",
       "1115  3572.659912  42179650000  \n",
       "\n",
       "[1116 rows x 7 columns]"
      ]
     },
     "execution_count": 11,
     "metadata": {},
     "output_type": "execute_result"
    }
   ],
   "source": [
    "# S&P 500\n",
    "data_sp = pd.read_csv(\"^GSPC.csv\")\n",
    "data_sp"
   ]
  },
  {
   "cell_type": "code",
   "execution_count": 12,
   "metadata": {},
   "outputs": [
    {
     "data": {
      "text/html": [
       "<div>\n",
       "<style scoped>\n",
       "    .dataframe tbody tr th:only-of-type {\n",
       "        vertical-align: middle;\n",
       "    }\n",
       "\n",
       "    .dataframe tbody tr th {\n",
       "        vertical-align: top;\n",
       "    }\n",
       "\n",
       "    .dataframe thead th {\n",
       "        text-align: right;\n",
       "    }\n",
       "</style>\n",
       "<table border=\"1\" class=\"dataframe\">\n",
       "  <thead>\n",
       "    <tr style=\"text-align: right;\">\n",
       "      <th></th>\n",
       "      <th>Open</th>\n",
       "      <th>High</th>\n",
       "      <th>Low</th>\n",
       "      <th>Close</th>\n",
       "      <th>Adj Close</th>\n",
       "      <th>Volume</th>\n",
       "    </tr>\n",
       "  </thead>\n",
       "  <tbody>\n",
       "    <tr>\n",
       "      <th>count</th>\n",
       "      <td>1116.000000</td>\n",
       "      <td>1116.000000</td>\n",
       "      <td>1116.000000</td>\n",
       "      <td>1116.000000</td>\n",
       "      <td>1116.000000</td>\n",
       "      <td>1.116000e+03</td>\n",
       "    </tr>\n",
       "    <tr>\n",
       "      <th>mean</th>\n",
       "      <td>485.579999</td>\n",
       "      <td>502.049544</td>\n",
       "      <td>469.088486</td>\n",
       "      <td>488.537823</td>\n",
       "      <td>488.537823</td>\n",
       "      <td>1.612025e+10</td>\n",
       "    </tr>\n",
       "    <tr>\n",
       "      <th>std</th>\n",
       "      <td>726.624844</td>\n",
       "      <td>751.605683</td>\n",
       "      <td>702.379739</td>\n",
       "      <td>731.674360</td>\n",
       "      <td>731.674360</td>\n",
       "      <td>3.068833e+10</td>\n",
       "    </tr>\n",
       "    <tr>\n",
       "      <th>min</th>\n",
       "      <td>4.400000</td>\n",
       "      <td>5.120000</td>\n",
       "      <td>4.400000</td>\n",
       "      <td>4.430000</td>\n",
       "      <td>4.430000</td>\n",
       "      <td>0.000000e+00</td>\n",
       "    </tr>\n",
       "    <tr>\n",
       "      <th>25%</th>\n",
       "      <td>23.722499</td>\n",
       "      <td>24.365001</td>\n",
       "      <td>23.150000</td>\n",
       "      <td>24.069999</td>\n",
       "      <td>24.069999</td>\n",
       "      <td>2.779000e+07</td>\n",
       "    </tr>\n",
       "    <tr>\n",
       "      <th>50%</th>\n",
       "      <td>98.784999</td>\n",
       "      <td>102.229999</td>\n",
       "      <td>95.795002</td>\n",
       "      <td>98.774997</td>\n",
       "      <td>98.774997</td>\n",
       "      <td>3.643450e+08</td>\n",
       "    </tr>\n",
       "    <tr>\n",
       "      <th>75%</th>\n",
       "      <td>817.232528</td>\n",
       "      <td>878.432510</td>\n",
       "      <td>773.992493</td>\n",
       "      <td>829.697510</td>\n",
       "      <td>829.697510</td>\n",
       "      <td>1.140654e+10</td>\n",
       "    </tr>\n",
       "    <tr>\n",
       "      <th>max</th>\n",
       "      <td>3507.439941</td>\n",
       "      <td>3645.989990</td>\n",
       "      <td>3284.530029</td>\n",
       "      <td>3572.659912</td>\n",
       "      <td>3572.659912</td>\n",
       "      <td>1.618436e+11</td>\n",
       "    </tr>\n",
       "  </tbody>\n",
       "</table>\n",
       "</div>"
      ],
      "text/plain": [
       "              Open         High          Low        Close    Adj Close  \\\n",
       "count  1116.000000  1116.000000  1116.000000  1116.000000  1116.000000   \n",
       "mean    485.579999   502.049544   469.088486   488.537823   488.537823   \n",
       "std     726.624844   751.605683   702.379739   731.674360   731.674360   \n",
       "min       4.400000     5.120000     4.400000     4.430000     4.430000   \n",
       "25%      23.722499    24.365001    23.150000    24.069999    24.069999   \n",
       "50%      98.784999   102.229999    95.795002    98.774997    98.774997   \n",
       "75%     817.232528   878.432510   773.992493   829.697510   829.697510   \n",
       "max    3507.439941  3645.989990  3284.530029  3572.659912  3572.659912   \n",
       "\n",
       "             Volume  \n",
       "count  1.116000e+03  \n",
       "mean   1.612025e+10  \n",
       "std    3.068833e+10  \n",
       "min    0.000000e+00  \n",
       "25%    2.779000e+07  \n",
       "50%    3.643450e+08  \n",
       "75%    1.140654e+10  \n",
       "max    1.618436e+11  "
      ]
     },
     "execution_count": 12,
     "metadata": {},
     "output_type": "execute_result"
    }
   ],
   "source": [
    "# S&P 500: SUMMARY STATISTICS\n",
    "data_sp.describe()"
   ]
  },
  {
   "cell_type": "code",
   "execution_count": 13,
   "metadata": {},
   "outputs": [
    {
     "data": {
      "text/html": [
       "<div>\n",
       "<style scoped>\n",
       "    .dataframe tbody tr th:only-of-type {\n",
       "        vertical-align: middle;\n",
       "    }\n",
       "\n",
       "    .dataframe tbody tr th {\n",
       "        vertical-align: top;\n",
       "    }\n",
       "\n",
       "    .dataframe thead th {\n",
       "        text-align: right;\n",
       "    }\n",
       "</style>\n",
       "<table border=\"1\" class=\"dataframe\">\n",
       "  <thead>\n",
       "    <tr style=\"text-align: right;\">\n",
       "      <th></th>\n",
       "      <th>DATE</th>\n",
       "      <th>S&amp;P 500</th>\n",
       "    </tr>\n",
       "  </thead>\n",
       "  <tbody>\n",
       "    <tr>\n",
       "      <th>0</th>\n",
       "      <td>1927-12-01</td>\n",
       "      <td>17.660000</td>\n",
       "    </tr>\n",
       "    <tr>\n",
       "      <th>1</th>\n",
       "      <td>1928-01-01</td>\n",
       "      <td>17.570000</td>\n",
       "    </tr>\n",
       "    <tr>\n",
       "      <th>2</th>\n",
       "      <td>1928-02-01</td>\n",
       "      <td>17.260000</td>\n",
       "    </tr>\n",
       "    <tr>\n",
       "      <th>3</th>\n",
       "      <td>1928-03-01</td>\n",
       "      <td>19.280001</td>\n",
       "    </tr>\n",
       "    <tr>\n",
       "      <th>4</th>\n",
       "      <td>1928-04-01</td>\n",
       "      <td>19.750000</td>\n",
       "    </tr>\n",
       "  </tbody>\n",
       "</table>\n",
       "</div>"
      ],
      "text/plain": [
       "         DATE    S&P 500\n",
       "0  1927-12-01  17.660000\n",
       "1  1928-01-01  17.570000\n",
       "2  1928-02-01  17.260000\n",
       "3  1928-03-01  19.280001\n",
       "4  1928-04-01  19.750000"
      ]
     },
     "execution_count": 13,
     "metadata": {},
     "output_type": "execute_result"
    }
   ],
   "source": [
    "data_sp = data_sp.drop(['Open','High','Low','Adj Close','Volume'], axis = 1)\n",
    "data_sp.columns = ['DATE','S&P 500']\n",
    "data_sp.head()"
   ]
  },
  {
   "cell_type": "code",
   "execution_count": 14,
   "metadata": {},
   "outputs": [
    {
     "data": {
      "image/png": "[encoded data removed]",
      "text/plain": [
       "<Figure size 864x432 with 1 Axes>"
      ]
     },
     "metadata": {
      "needs_background": "light"
     },
     "output_type": "display_data"
    }
   ],
   "source": [
    "# S&P 500 CLOSING PRICE: DATA VISUALIZATION\n",
    "data_sp1 = data_sp.set_index('DATE')\n",
    "ax = data_sp1['1947':'2020'].plot(title='US S&P500', legend=False, figsize=(12,6))\n",
    "ax.set_xlabel('year', fontsize=12)\n",
    "plt.show()"
   ]
  },
  {
   "cell_type": "markdown",
   "metadata": {},
   "source": [
    "<h2>Data Analysis"
   ]
  },
  {
   "cell_type": "code",
   "execution_count": 15,
   "metadata": {},
   "outputs": [
    {
     "data": {
      "text/html": [
       "<div>\n",
       "<style scoped>\n",
       "    .dataframe tbody tr th:only-of-type {\n",
       "        vertical-align: middle;\n",
       "    }\n",
       "\n",
       "    .dataframe tbody tr th {\n",
       "        vertical-align: top;\n",
       "    }\n",
       "\n",
       "    .dataframe thead th {\n",
       "        text-align: right;\n",
       "    }\n",
       "</style>\n",
       "<table border=\"1\" class=\"dataframe\">\n",
       "  <thead>\n",
       "    <tr style=\"text-align: right;\">\n",
       "      <th></th>\n",
       "      <th>DATE</th>\n",
       "      <th>UNRATE</th>\n",
       "      <th>FFR</th>\n",
       "      <th>INDPRO</th>\n",
       "      <th>S&amp;P 500</th>\n",
       "    </tr>\n",
       "  </thead>\n",
       "  <tbody>\n",
       "    <tr>\n",
       "      <th>0</th>\n",
       "      <td>1955-01-01</td>\n",
       "      <td>4.9</td>\n",
       "      <td>1.39</td>\n",
       "      <td>19.8557</td>\n",
       "      <td>36.630001</td>\n",
       "    </tr>\n",
       "    <tr>\n",
       "      <th>1</th>\n",
       "      <td>1955-02-01</td>\n",
       "      <td>4.7</td>\n",
       "      <td>1.29</td>\n",
       "      <td>20.1050</td>\n",
       "      <td>36.759998</td>\n",
       "    </tr>\n",
       "    <tr>\n",
       "      <th>2</th>\n",
       "      <td>1955-03-01</td>\n",
       "      <td>4.6</td>\n",
       "      <td>1.35</td>\n",
       "      <td>20.5757</td>\n",
       "      <td>36.580002</td>\n",
       "    </tr>\n",
       "    <tr>\n",
       "      <th>3</th>\n",
       "      <td>1955-04-01</td>\n",
       "      <td>4.7</td>\n",
       "      <td>1.43</td>\n",
       "      <td>20.8250</td>\n",
       "      <td>37.959999</td>\n",
       "    </tr>\n",
       "    <tr>\n",
       "      <th>4</th>\n",
       "      <td>1955-05-01</td>\n",
       "      <td>4.3</td>\n",
       "      <td>1.43</td>\n",
       "      <td>21.1573</td>\n",
       "      <td>37.910000</td>\n",
       "    </tr>\n",
       "  </tbody>\n",
       "</table>\n",
       "</div>"
      ],
      "text/plain": [
       "         DATE  UNRATE   FFR   INDPRO    S&P 500\n",
       "0  1955-01-01     4.9  1.39  19.8557  36.630001\n",
       "1  1955-02-01     4.7  1.29  20.1050  36.759998\n",
       "2  1955-03-01     4.6  1.35  20.5757  36.580002\n",
       "3  1955-04-01     4.7  1.43  20.8250  37.959999\n",
       "4  1955-05-01     4.3  1.43  21.1573  37.910000"
      ]
     },
     "execution_count": 15,
     "metadata": {},
     "output_type": "execute_result"
    }
   ],
   "source": [
    "data_merge_temp1 = pd.merge(data_ur, data_ffr, how='inner', on='DATE', left_on=None, right_on=None,\n",
    "         left_index=False, right_index=False, sort=True,\n",
    "         suffixes=('_x', '_y'), copy=True, indicator=False,\n",
    "         validate=None)\n",
    "data_merge_temp2 = pd.merge(data_merge_temp1, data_ip, how='inner', on='DATE', left_on=None, right_on=None,\n",
    "         left_index=False, right_index=False, sort=True,\n",
    "         suffixes=('_x', '_y'), copy=True, indicator=False,\n",
    "         validate=None)\n",
    "data_merge = pd.merge(data_merge_temp2, data_sp, how='inner', on='DATE', left_on=None, right_on=None,\n",
    "         left_index=False, right_index=False, sort=True,\n",
    "         suffixes=('_x', '_y'), copy=True, indicator=False,\n",
    "         validate=None)\n",
    "data_merge.head()"
   ]
  },
  {
   "cell_type": "code",
   "execution_count": 17,
   "metadata": {},
   "outputs": [
    {
     "data": {
      "text/html": [
       "<div>\n",
       "<style scoped>\n",
       "    .dataframe tbody tr th:only-of-type {\n",
       "        vertical-align: middle;\n",
       "    }\n",
       "\n",
       "    .dataframe tbody tr th {\n",
       "        vertical-align: top;\n",
       "    }\n",
       "\n",
       "    .dataframe thead th {\n",
       "        text-align: right;\n",
       "    }\n",
       "</style>\n",
       "<table border=\"1\" class=\"dataframe\">\n",
       "  <thead>\n",
       "    <tr style=\"text-align: right;\">\n",
       "      <th></th>\n",
       "      <th>UNRATE</th>\n",
       "      <th>FFR</th>\n",
       "      <th>INDPRO</th>\n",
       "      <th>S&amp;P 500</th>\n",
       "      <th>ln_UNRATE</th>\n",
       "      <th>ln_FFR</th>\n",
       "      <th>ln_INDPRO</th>\n",
       "      <th>ln_S&amp;P 500</th>\n",
       "    </tr>\n",
       "    <tr>\n",
       "      <th>DATE</th>\n",
       "      <th></th>\n",
       "      <th></th>\n",
       "      <th></th>\n",
       "      <th></th>\n",
       "      <th></th>\n",
       "      <th></th>\n",
       "      <th></th>\n",
       "      <th></th>\n",
       "    </tr>\n",
       "  </thead>\n",
       "  <tbody>\n",
       "    <tr>\n",
       "      <th>1955-01-01</th>\n",
       "      <td>4.9</td>\n",
       "      <td>1.39</td>\n",
       "      <td>19.8557</td>\n",
       "      <td>36.630001</td>\n",
       "      <td>1.589235</td>\n",
       "      <td>0.329304</td>\n",
       "      <td>2.988491</td>\n",
       "      <td>3.600868</td>\n",
       "    </tr>\n",
       "    <tr>\n",
       "      <th>1955-02-01</th>\n",
       "      <td>4.7</td>\n",
       "      <td>1.29</td>\n",
       "      <td>20.1050</td>\n",
       "      <td>36.759998</td>\n",
       "      <td>1.547563</td>\n",
       "      <td>0.254642</td>\n",
       "      <td>3.000969</td>\n",
       "      <td>3.604410</td>\n",
       "    </tr>\n",
       "    <tr>\n",
       "      <th>1955-03-01</th>\n",
       "      <td>4.6</td>\n",
       "      <td>1.35</td>\n",
       "      <td>20.5757</td>\n",
       "      <td>36.580002</td>\n",
       "      <td>1.526056</td>\n",
       "      <td>0.300105</td>\n",
       "      <td>3.024111</td>\n",
       "      <td>3.599502</td>\n",
       "    </tr>\n",
       "    <tr>\n",
       "      <th>1955-04-01</th>\n",
       "      <td>4.7</td>\n",
       "      <td>1.43</td>\n",
       "      <td>20.8250</td>\n",
       "      <td>37.959999</td>\n",
       "      <td>1.547563</td>\n",
       "      <td>0.357674</td>\n",
       "      <td>3.036154</td>\n",
       "      <td>3.636533</td>\n",
       "    </tr>\n",
       "    <tr>\n",
       "      <th>1955-05-01</th>\n",
       "      <td>4.3</td>\n",
       "      <td>1.43</td>\n",
       "      <td>21.1573</td>\n",
       "      <td>37.910000</td>\n",
       "      <td>1.458615</td>\n",
       "      <td>0.357674</td>\n",
       "      <td>3.051985</td>\n",
       "      <td>3.635215</td>\n",
       "    </tr>\n",
       "  </tbody>\n",
       "</table>\n",
       "</div>"
      ],
      "text/plain": [
       "            UNRATE   FFR   INDPRO    S&P 500  ln_UNRATE    ln_FFR  ln_INDPRO  \\\n",
       "DATE                                                                           \n",
       "1955-01-01     4.9  1.39  19.8557  36.630001   1.589235  0.329304   2.988491   \n",
       "1955-02-01     4.7  1.29  20.1050  36.759998   1.547563  0.254642   3.000969   \n",
       "1955-03-01     4.6  1.35  20.5757  36.580002   1.526056  0.300105   3.024111   \n",
       "1955-04-01     4.7  1.43  20.8250  37.959999   1.547563  0.357674   3.036154   \n",
       "1955-05-01     4.3  1.43  21.1573  37.910000   1.458615  0.357674   3.051985   \n",
       "\n",
       "            ln_S&P 500  \n",
       "DATE                    \n",
       "1955-01-01    3.600868  \n",
       "1955-02-01    3.604410  \n",
       "1955-03-01    3.599502  \n",
       "1955-04-01    3.636533  \n",
       "1955-05-01    3.635215  "
      ]
     },
     "execution_count": 17,
     "metadata": {},
     "output_type": "execute_result"
    }
   ],
   "source": [
    "# COMPUTING THE PERCENTAGE CHANGE OF THE VARIABLES\n",
    "data_merge['ln_UNRATE'] = np.log(data_merge['UNRATE'])\n",
    "data_merge['ln_FFR'] = np.log(data_merge['FFR'])\n",
    "data_merge['ln_INDPRO'] = np.log(data_merge['INDPRO'])\n",
    "data_merge['ln_S&P 500'] = np.log(data_merge['S&P 500'])\n",
    "data_merge = data_merge.set_index('DATE')\n",
    "\n",
    "data_merge.head()"
   ]
  },
  {
   "cell_type": "code",
   "execution_count": 32,
   "metadata": {},
   "outputs": [
    {
     "data": {
      "text/plain": [
       "Text(0, 0.5, 'PERCENTAGE CHANGE (%)')"
      ]
     },
     "execution_count": 32,
     "metadata": {},
     "output_type": "execute_result"
    },
    {
     "data": {
      "image/png": "[encoded data removed]",
      "text/plain": [
       "<Figure size 864x432 with 1 Axes>"
      ]
     },
     "metadata": {
      "needs_background": "light"
     },
     "output_type": "display_data"
    }
   ],
   "source": [
    "data_merge2 = data_merge.drop(['UNRATE','S&P 500','FFR','INDPRO'], axis = 1)\n",
    "ax = data_merge2.plot(figsize = (12,6))\n",
    "ax.set_ylabel('PERCENTAGE CHANGE (%)', fontsize = 11)"
   ]
  },
  {
   "cell_type": "code",
   "execution_count": 21,
   "metadata": {},
   "outputs": [
    {
     "data": {
      "text/html": [
       "<div>\n",
       "<style scoped>\n",
       "    .dataframe tbody tr th:only-of-type {\n",
       "        vertical-align: middle;\n",
       "    }\n",
       "\n",
       "    .dataframe tbody tr th {\n",
       "        vertical-align: top;\n",
       "    }\n",
       "\n",
       "    .dataframe thead th {\n",
       "        text-align: right;\n",
       "    }\n",
       "</style>\n",
       "<table border=\"1\" class=\"dataframe\">\n",
       "  <thead>\n",
       "    <tr style=\"text-align: right;\">\n",
       "      <th></th>\n",
       "      <th>UNRATE</th>\n",
       "      <th>FFR</th>\n",
       "      <th>INDPRO</th>\n",
       "      <th>S&amp;P 500</th>\n",
       "      <th>ln_UNRATE</th>\n",
       "      <th>ln_FFR</th>\n",
       "      <th>ln_INDPRO</th>\n",
       "      <th>ln_S&amp;P 500</th>\n",
       "    </tr>\n",
       "  </thead>\n",
       "  <tbody>\n",
       "    <tr>\n",
       "      <th>count</th>\n",
       "      <td>789.000000</td>\n",
       "      <td>789.000000</td>\n",
       "      <td>789.000000</td>\n",
       "      <td>789.000000</td>\n",
       "      <td>789.000000</td>\n",
       "      <td>789.000000</td>\n",
       "      <td>789.000000</td>\n",
       "      <td>789.000000</td>\n",
       "    </tr>\n",
       "    <tr>\n",
       "      <th>mean</th>\n",
       "      <td>5.922814</td>\n",
       "      <td>4.752877</td>\n",
       "      <td>64.673615</td>\n",
       "      <td>675.889594</td>\n",
       "      <td>1.741858</td>\n",
       "      <td>1.040827</td>\n",
       "      <td>4.054099</td>\n",
       "      <td>5.728192</td>\n",
       "    </tr>\n",
       "    <tr>\n",
       "      <th>std</th>\n",
       "      <td>1.664899</td>\n",
       "      <td>3.601137</td>\n",
       "      <td>28.539936</td>\n",
       "      <td>779.888809</td>\n",
       "      <td>0.269427</td>\n",
       "      <td>1.341245</td>\n",
       "      <td>0.504916</td>\n",
       "      <td>1.332047</td>\n",
       "    </tr>\n",
       "    <tr>\n",
       "      <th>min</th>\n",
       "      <td>3.400000</td>\n",
       "      <td>0.050000</td>\n",
       "      <td>19.745000</td>\n",
       "      <td>36.580002</td>\n",
       "      <td>1.223775</td>\n",
       "      <td>-2.995732</td>\n",
       "      <td>2.982900</td>\n",
       "      <td>3.599502</td>\n",
       "    </tr>\n",
       "    <tr>\n",
       "      <th>25%</th>\n",
       "      <td>4.700000</td>\n",
       "      <td>2.010000</td>\n",
       "      <td>39.918900</td>\n",
       "      <td>94.000000</td>\n",
       "      <td>1.547563</td>\n",
       "      <td>0.698135</td>\n",
       "      <td>3.686850</td>\n",
       "      <td>4.543295</td>\n",
       "    </tr>\n",
       "    <tr>\n",
       "      <th>50%</th>\n",
       "      <td>5.600000</td>\n",
       "      <td>4.460000</td>\n",
       "      <td>61.813700</td>\n",
       "      <td>272.019989</td>\n",
       "      <td>1.722767</td>\n",
       "      <td>1.495149</td>\n",
       "      <td>4.124125</td>\n",
       "      <td>5.605876</td>\n",
       "    </tr>\n",
       "    <tr>\n",
       "      <th>75%</th>\n",
       "      <td>7.000000</td>\n",
       "      <td>6.510000</td>\n",
       "      <td>94.175800</td>\n",
       "      <td>1166.359985</td>\n",
       "      <td>1.945910</td>\n",
       "      <td>1.873339</td>\n",
       "      <td>4.545163</td>\n",
       "      <td>7.061643</td>\n",
       "    </tr>\n",
       "    <tr>\n",
       "      <th>max</th>\n",
       "      <td>14.700000</td>\n",
       "      <td>19.100000</td>\n",
       "      <td>110.551600</td>\n",
       "      <td>3500.310059</td>\n",
       "      <td>2.687847</td>\n",
       "      <td>2.949688</td>\n",
       "      <td>4.705482</td>\n",
       "      <td>8.160607</td>\n",
       "    </tr>\n",
       "  </tbody>\n",
       "</table>\n",
       "</div>"
      ],
      "text/plain": [
       "           UNRATE         FFR      INDPRO      S&P 500   ln_UNRATE  \\\n",
       "count  789.000000  789.000000  789.000000   789.000000  789.000000   \n",
       "mean     5.922814    4.752877   64.673615   675.889594    1.741858   \n",
       "std      1.664899    3.601137   28.539936   779.888809    0.269427   \n",
       "min      3.400000    0.050000   19.745000    36.580002    1.223775   \n",
       "25%      4.700000    2.010000   39.918900    94.000000    1.547563   \n",
       "50%      5.600000    4.460000   61.813700   272.019989    1.722767   \n",
       "75%      7.000000    6.510000   94.175800  1166.359985    1.945910   \n",
       "max     14.700000   19.100000  110.551600  3500.310059    2.687847   \n",
       "\n",
       "           ln_FFR   ln_INDPRO  ln_S&P 500  \n",
       "count  789.000000  789.000000  789.000000  \n",
       "mean     1.040827    4.054099    5.728192  \n",
       "std      1.341245    0.504916    1.332047  \n",
       "min     -2.995732    2.982900    3.599502  \n",
       "25%      0.698135    3.686850    4.543295  \n",
       "50%      1.495149    4.124125    5.605876  \n",
       "75%      1.873339    4.545163    7.061643  \n",
       "max      2.949688    4.705482    8.160607  "
      ]
     },
     "execution_count": 21,
     "metadata": {},
     "output_type": "execute_result"
    }
   ],
   "source": [
    "data_merge.describe()"
   ]
  },
  {
   "cell_type": "markdown",
   "metadata": {},
   "source": [
    "<h2>Regression Analysis"
   ]
  },
  {
   "cell_type": "markdown",
   "metadata": {},
   "source": [
    "<h3> Model 1"
   ]
  },
  {
   "cell_type": "markdown",
   "metadata": {},
   "source": [
    "According to the time series graph above, unemployment rate shows a negative correlation with S&P 500 compared to the other two variables--federal funds rate and total industrial production. Hence, we would like to first test the relationship between unemployment rate and S&P 500 index at closing. Our model is followed:\n",
    "\n",
    "$${SP500} = \\beta_{0} + \\beta_{1} * UNRATE + u$$<br>\n",
    "$\\beta_{0}$: intercept <br>\n",
    "$\\beta_{1}$: the effect of unemployment rate on S&P 500 <br>\n",
    "u: error term"
   ]
  },
  {
   "cell_type": "code",
   "execution_count": 33,
   "metadata": {},
   "outputs": [
    {
     "name": "stdout",
     "output_type": "stream",
     "text": [
      "                            OLS Regression Results                            \n",
      "==============================================================================\n",
      "Dep. Variable:                S&P 500   R-squared:                       0.011\n",
      "Model:                            OLS   Adj. R-squared:                  0.010\n",
      "Method:                 Least Squares   F-statistic:                     8.721\n",
      "Date:                Wed, 09 Dec 2020   Prob (F-statistic):            0.00324\n",
      "Time:                        21:22:26   Log-Likelihood:                -6368.8\n",
      "No. Observations:                 789   AIC:                         1.274e+04\n",
      "Df Residuals:                     787   BIC:                         1.275e+04\n",
      "Df Model:                           1                                         \n",
      "Covariance Type:            nonrobust                                         \n",
      "==============================================================================\n",
      "                 coef    std err          t      P>|t|      [0.025      0.975]\n",
      "------------------------------------------------------------------------------\n",
      "const        966.3486    102.161      9.459      0.000     765.808    1166.889\n",
      "UNRATE       -49.0407     16.606     -2.953      0.003     -81.638     -16.443\n",
      "==============================================================================\n",
      "Omnibus:                      162.545   Durbin-Watson:                   0.004\n",
      "Prob(Omnibus):                  0.000   Jarque-Bera (JB):              271.441\n",
      "Skew:                           1.318   Prob(JB):                     1.14e-59\n",
      "Kurtosis:                       4.146   Cond. No.                         23.3\n",
      "==============================================================================\n",
      "\n",
      "Notes:\n",
      "[1] Standard Errors assume that the covariance matrix of the errors is correctly specified.\n"
     ]
    }
   ],
   "source": [
    "data_merge = data_merge.dropna()\n",
    "X = data_merge[['UNRATE']]\n",
    "Y = data_merge['S&P 500']\n",
    "regr = linear_model.LinearRegression()\n",
    "regr.fit(X, Y)\n",
    "X = sm.add_constant(X)\n",
    "model = sm.OLS(Y, X).fit()\n",
    "predictions = model.predict(X) \n",
    "print(model.summary())"
   ]
  },
  {
   "cell_type": "markdown",
   "metadata": {},
   "source": [
    "<h3> Model 1: Estimation & Interpretation"
   ]
  },
  {
   "cell_type": "markdown",
   "metadata": {},
   "source": [
    "$$\\hat{SP500} = 966.35 - 49.0407*UNRATE $$<br>\n",
    "\n",
    "According to the model, a one unit increase in unemployment rate leads to a 49.04 unit decrease in the S&P 500. The coefficient is statistically significant at 5% level since our p-value = 0.003. It confirms our hypothesis that S&P 500 is negatively correlated with Unemployment Rate. However, the R-squared value of 0.011 indicates that approximately 1.1% of the variation in S&P500 is explained by Unemployment Rate. It tells us that the model above does not return the best fitted line. "
   ]
  },
  {
   "cell_type": "markdown",
   "metadata": {},
   "source": [
    "<h3> Model 2\n"
   ]
  },
  {
   "cell_type": "markdown",
   "metadata": {},
   "source": [
    "Hence in Model 2, we would like to add the other two variables--federal funds rate and total industrial production--into our model in an attempt to explain the S&P 500 index. In order to simplify the model and avoid getting a huge constant, we will also use a log-log model so that all the variables have the same unit: percentage change (%)<br>\n",
    "\n",
    "$$\\ln{(SP500)} = \\beta_{0} + \\beta_{1} * ln{(UNRATE)} + \\beta_{2} * ln{(FFR)} + \\beta_{3} * ln{(INDPRO)} + e_i$$<br>\n",
    "$\\beta_{0}$: intercept <br>\n",
    "$\\beta_{1}$: coefficient of Log Unemployment Rate<br>\n",
    "$\\beta_{2}$: coefficient of Log Federal Funds Rate<br>\n",
    "$\\beta_{3}$: coefficient of Log Total Industrial Production<br>\n",
    "$e_i$: error terms"
   ]
  },
  {
   "cell_type": "code",
   "execution_count": 26,
   "metadata": {},
   "outputs": [
    {
     "name": "stdout",
     "output_type": "stream",
     "text": [
      "                            OLS Regression Results                            \n",
      "==============================================================================\n",
      "Dep. Variable:             ln_S&P 500   R-squared:                       0.955\n",
      "Model:                            OLS   Adj. R-squared:                  0.955\n",
      "Method:                 Least Squares   F-statistic:                     5588.\n",
      "Date:                Wed, 09 Dec 2020   Prob (F-statistic):               0.00\n",
      "Time:                        20:17:20   Log-Likelihood:                -119.52\n",
      "No. Observations:                 789   AIC:                             247.0\n",
      "Df Residuals:                     785   BIC:                             265.7\n",
      "Df Model:                           3                                         \n",
      "Covariance Type:            nonrobust                                         \n",
      "==============================================================================\n",
      "                 coef    std err          t      P>|t|      [0.025      0.975]\n",
      "------------------------------------------------------------------------------\n",
      "const         -2.1337      0.115    -18.609      0.000      -2.359      -1.909\n",
      "ln_UNRATE     -0.7244      0.038    -18.817      0.000      -0.800      -0.649\n",
      "ln_FFR        -0.2308      0.008    -27.789      0.000      -0.247      -0.214\n",
      "ln_INDPRO      2.3097      0.021    107.609      0.000       2.268       2.352\n",
      "==============================================================================\n",
      "Omnibus:                       10.488   Durbin-Watson:                   0.048\n",
      "Prob(Omnibus):                  0.005   Jarque-Bera (JB):                9.234\n",
      "Skew:                          -0.203   Prob(JB):                      0.00988\n",
      "Kurtosis:                       2.660   Cond. No.                         54.9\n",
      "==============================================================================\n",
      "\n",
      "Notes:\n",
      "[1] Standard Errors assume that the covariance matrix of the errors is correctly specified.\n"
     ]
    }
   ],
   "source": [
    "data_merge = data_merge.dropna()\n",
    "X = data_merge[['ln_UNRATE','ln_FFR','ln_INDPRO']]\n",
    "Y = data_merge['ln_S&P 500']\n",
    "regr = linear_model.LinearRegression()\n",
    "regr.fit(X, Y)\n",
    "X = sm.add_constant(X)\n",
    "model = sm.OLS(Y, X).fit()\n",
    "predictions = model.predict(X) \n",
    "print(model.summary())"
   ]
  },
  {
   "cell_type": "markdown",
   "metadata": {},
   "source": [
    "<h3> Model 2: Estimation & Interpretation"
   ]
  },
  {
   "cell_type": "markdown",
   "metadata": {},
   "source": [
    "$$\\hat{\\ln{(SP500)}} = -2.1337 - 0.7244*ln{(UNRATE)} - 0.2308* ln{(FFR)} + 2.3097* ln{(INDPRO)} $$<br>"
   ]
  },
  {
   "cell_type": "markdown",
   "metadata": {},
   "source": [
    "1. A one-percentage increase in unemployment rate (UNRATE) is associated with a 0.7244% decrease in S&P 500 closing price. With a P-value = 0.000, $\\beta_{1}$ is statistically significant with 95% confidence.\n",
    "\n",
    "\n",
    "2. A one-percentage increase in federal funds rate (FFR) is associated with a 0.2308% decrease in S&P 500 closing price. With a P-value = 0.000, $\\beta_{2}$ is statistically significant with 95% confidence.\n",
    "\n",
    "\n",
    "3. A one-unit increase in total industrial production (INDPRO) is associated with a 2.3097% increase in S&P 500 closing price. With a P-value = 0.000, $\\beta_{3}$ is also statistically significant with 95% confidence.\n",
    "\n",
    "The results align with our hypothesis that unemployment rate and federal funds rate are negatively correlated with S&P 500 index while total industrial production is positively correlated with the index. The model returns an R-square value of 0.955, meaning that the three independent variables can explain up to 95.5% of variation of the S&P 500 at closing. "
   ]
  },
  {
   "cell_type": "markdown",
   "metadata": {},
   "source": [
    "<h2> Conclusion"
   ]
  },
  {
   "cell_type": "markdown",
   "metadata": {},
   "source": [
    "The results from our regression model confirm our initial hypothesis. Unemployment rate, federal funds rate, and total industrial production can be used to explain the performance of the stock market, which is represented by the S&P 500 index at closing. However, there might be errors in model such as having highly skewed data, and S&P500 index experienced a huge change during this time period. We must evaluate the distribution of the residuals in order to make accurate explanations."
   ]
  }
 ],
 "metadata": {
  "kernelspec": {
   "display_name": "Python 3",
   "language": "python",
   "name": "python3"
  },
  "language_info": {
   "codemirror_mode": {
    "name": "ipython",
    "version": 3
   },
   "file_extension": ".py",
   "mimetype": "text/x-python",
   "name": "python",
   "nbconvert_exporter": "python",
   "pygments_lexer": "ipython3",
   "version": "3.8.5"
  }
 },
 "nbformat": 4,
 "nbformat_minor": 4
}
