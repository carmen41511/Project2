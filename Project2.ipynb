{
 "cells": [
  {
   "cell_type": "markdown",
   "metadata": {},
   "source": [
    "                                                Final Project\n",
    "Project Overview:\n",
    "\n",
    "The purpose of this project is to investigate the impact of COVID-19 on the U.S. stock market. We will examine the relationship between the dependent variable: the level of a popular stock market index - S&P 500, and the independent variables: gross domestic product (GDP) and unemployment rate, and the number of confirm COVID-19 cases. Economic turmoil resulted from an increased number of COVID-19 cases severly impacts the financial markets, and benchmark indices fall sharply as the pandemic spread across nationwide. We expect the independent variables negatively impact the dependent variable. We will use linear regression analysis to test our hypothesis.\n",
    "\n"
   ]
  },
  {
   "cell_type": "markdown",
   "metadata": {},
   "source": [
    "Project Structure:\n",
    "\n",
    "This projects consist of "
   ]
  }
 ],
 "metadata": {
  "kernelspec": {
   "display_name": "Python 3",
   "language": "python",
   "name": "python3"
  },
  "language_info": {
   "codemirror_mode": {
    "name": "ipython",
    "version": 3
   },
   "file_extension": ".py",
   "mimetype": "text/x-python",
   "name": "python",
   "nbconvert_exporter": "python",
   "pygments_lexer": "ipython3",
   "version": "3.8.5"
  }
 },
 "nbformat": 4,
 "nbformat_minor": 4
}
