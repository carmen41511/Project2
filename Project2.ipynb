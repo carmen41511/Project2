{
 "cells": [
  {
   "cell_type": "markdown",
   "metadata": {},
   "source": [
    "\n",
    "\n",
    "                                                    Final Project\n",
    "Project Overview:\n",
    "\n",
    "The purpose of this project is to investigate the relationship between the number of confirm COVID-19 cases and the U.S. stock market. During COVID-19, the unemployment rate and gross domestic product (GDP) are directly impacted as the number of cases increase. We predict that this impact negatively affect the level of a stock market index S&P 500. We will use linear regression analysis to test our hypothesis.\n",
    "\n"
   ]
  },
  {
   "cell_type": "markdown",
   "metadata": {},
   "source": [
    "Project Structure:\n",
    "\n",
    "This projects consist of "
   ]
  }
 ],
 "metadata": {
  "kernelspec": {
   "display_name": "Python 3",
   "language": "python",
   "name": "python3"
  },
  "language_info": {
   "codemirror_mode": {
    "name": "ipython",
    "version": 3
   },
   "file_extension": ".py",
   "mimetype": "text/x-python",
   "name": "python",
   "nbconvert_exporter": "python",
   "pygments_lexer": "ipython3",
   "version": "3.8.5"
  }
 },
 "nbformat": 4,
 "nbformat_minor": 4
}
