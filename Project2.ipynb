{
 "cells": [
  {
   "cell_type": "markdown",
   "metadata": {},
   "source": [
    "                                                Final Project\n",
    "Project Overview:\n",
    "\n",
    "The purpose of this project is to investigate the impact of COVID-19 on the U.S. stock market. Economic turmoil resulted from the COVID-19 severly impacts the financial markets, and benchmark indices fall sharply as the pandemic spread across nationwide. In this project, we use variables of M2 stock, gross domestic product (GDP), and unemployment rate to assess the effects of COVID-19 on stock market."
   ]
  },
  {
   "cell_type": "markdown",
   "metadata": {},
   "source": [
    "Project Structure:\n",
    "\n",
    "This projects consist of "
   ]
  }
 ],
 "metadata": {
  "kernelspec": {
   "display_name": "Python 3",
   "language": "python",
   "name": "python3"
  },
  "language_info": {
   "codemirror_mode": {
    "name": "ipython",
    "version": 3
   },
   "file_extension": ".py",
   "mimetype": "text/x-python",
   "name": "python",
   "nbconvert_exporter": "python",
   "pygments_lexer": "ipython3",
   "version": "3.8.5"
  }
 },
 "nbformat": 4,
 "nbformat_minor": 4
}
