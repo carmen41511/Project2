{
 "cells": [
  {
   "cell_type": "markdown",
   "metadata": {},
   "source": [
    "\n",
    "\n",
    "                                                    Final Project\n",
    "Project Overview:\n",
    "\n",
    "The purpose of this project is to investigate the determinants of the stock market. Investors often trade based on their expectation of the future economy as well as their amount of liquidity. Therefore, we have selected three macroeconomic variables -- unemployment rate, federal funds rate, and total industrial production -- to study the scope of their impact on the stock market, which we use the major index S&P 500 to represent. We believe that unemployment and higher interest rate will decrease investors' buying power, leading to a poorly performing stock market. Meanwhile an increase in industrial production indicates an expanding economy, driving up the S&P 500 index. To test this theory, we will implement a linear regression model using monthly data from  January 1955 to September 2020.\n",
    "\n"
   ]
  },
  {
   "cell_type": "markdown",
   "metadata": {},
   "source": [
    "Project Structure:\n",
    "\n",
    "This project consists of the following three sections:\n",
    "\n",
    "1. Introduction of the key variables and the method used to access data from the source\n",
    "2. Summary statistics and visualizations of each variable\n",
    "3. Revisiting the hypothesis and performing a linear regression model to test, followed by a conclusion present our final results"
   ]
  },
  {
   "cell_type": "markdown",
   "metadata": {},
   "source": [
    "Data Report: The data for this project is from the Federal Reserve Economic Data website (FRED) and Yahoo Finance. FRED provides monthly data on the U.S. unemployment rate, Federal Funds Rate (which impact the interest rate charged to consumers), and Industrial Production Total Index, while Yahoo Finance provides monthly data on S&P 500 from January 1955 to September 2020. The data can be accessed at https://fred.stlouisfed.org and https://finance.yahoo.com/.\n",
    "\n",
    "\n",
    "Key variables: The four key variables in this project are unemployment rate, effective federal funds rate, total industrial production: total index, and S&P 500 index.\n",
    "\n",
    "FRED defines the unemployment rate as to \"represent the number of unemployed as a percentage of the labor force. Labor force data are restricted to people 16 years of age and older, who currently reside in 1 of the 50 states or the District of Columbia, who do not reside in institutions (e.g., penal and mental facilities, homes for the aged), and who are not on active duty in the Armed Forces\".\n",
    "\n",
    "The effective federal funds rate (EFFR) is calculated as a volume-weighted median of overnight federal funds transactions reported in the FR 2420 Report of Selected Money Market Rates. \n",
    "\n",
    "FRED defines the Industrial Production: Total Index (INDPRO) as \"an economic indicator that measures real output for all facilities located in the United States manufacturing, mining, and electric, and gas utilities (excluding those in U.S. territories)\".\n",
    "\n",
    "FRED defines \"the observation for the S&P 500 index represents the daily index value at market close. The market typically closes at 4 PM ET, except for holidays when it sometimes closes early.The S&P 500 is regarded as a gauge of the large cap U.S. equities market. The index includes 500 leading companies in leading industries of the U.S. economy, which are publicly held on either the NYSE or NASDAQ, and covers 75% of U.S. equities. Since this is a price index and not a total return index, the S&P 500 index here does not contain dividends\".\n"
   ]
  }
 ],
 "metadata": {
  "kernelspec": {
   "display_name": "Python 3",
   "language": "python",
   "name": "python3"
  },
  "language_info": {
   "codemirror_mode": {
    "name": "ipython",
    "version": 3
   },
   "file_extension": ".py",
   "mimetype": "text/x-python",
   "name": "python",
   "nbconvert_exporter": "python",
   "pygments_lexer": "ipython3",
   "version": "3.8.5"
  }
 },
 "nbformat": 4,
 "nbformat_minor": 4
}
